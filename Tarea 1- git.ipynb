{
 "cells": [
  {
   "cell_type": "markdown",
   "metadata": {},
   "source": [
    "<img style=\"float: left; margin: 30px 15px 15px 15px;\" src=\"https://encrypted-tbn0.gstatic.com/images?q=tbn:ANd9GcTFzQj91sOlkeDFkg5HDbjtR4QJYmLXkfMNig&usqp=CAU\" width=\"400\" height=\"500\" /> \n",
    "    \n",
    "    \n",
    "### <font color='navy'> Modelos no lineales para pronósticos. \n",
    "\n",
    "**Nombres:** Rafael Juarez Badillo Chavez, Leonardo Xavier Pérez Balcorta, Rafael Gallardo Vázquez\n",
    "\n",
    "**Fecha:** 29 de enero del 2023\n",
    "\n",
    "**Expediente** : 733240, 720960, 736376\n",
    "    \n",
    "**Profesor:** Oscar David Jaramillo Zuluaga.\n",
    "    \n",
    "**Link Github**: https://github.com/RafaJBZ/Proyecto_conjunto_RAJuarez_RAGallardo_LEPerez\n",
    "\n",
    "# Tarea 1: Clase git"
   ]
  },
  {
   "cell_type": "markdown",
   "metadata": {},
   "source": [
    "## Enunciado de tarea\n",
    "\n",
    "Este archivo contiene las pautas necesarias para crear el archivo conjunto en Github, usando los notebooks de Jupyter:\n",
    "\n",
    "1.  El archivo debe realizarse en parejas y sólo uno de los dos debe crear en su cuenta de *Github* un repositorio con el nombre **ProyectoConjunto\\_APELLIDO1\\_APELLIDO2**. A la persona que creó el repositorio la llamaremos (ESTUDIANTE 1 ). El APELLIDO se debe de escribir (Iniciales del nombre y primer apellido), por ejemplo si yo creara el archivo lo debería de nombrar *ProyectoConjunto\\_ODJaramillo*. \n",
    "2.  Posteriormente, desde la cuenta del (ESTUDIANTE 2), 'aquel que no creó el repositorio anterior', ingresar al perfil del ESTUDIANTE 1 y en el repositorio creado en el paso 1, realizar un \"fork\" de este repositorio en su perfil, y además realizar los pasos en Gitkraken para hacer dicho repositorio \"Remoto (REMOTE)\" VER DICHO PROCEDIMIENTO EN LA CLASE **Clase2_GitTurorial2**.\n",
    "3.  Luego de realizados los pasos 1 y 2, el ESTUDIANTE 1 y ESTUDIANTE 2, desde su computador realizar un *clone* del repositorio creado en el numeral 1 en la carpeta que cada quién haya asignado para el curso en su computador. \n",
    "4.  Luego desde Jupyter el ESTUDIANTE 1, crea un nuevo ``notebook`` en el repositorio del paso 3. \n",
    "5.  En este nuevo notebook el ESTUDIANTE 1 y ESTUDIANTE 2, deben realizar una presentación describiendo sus expectativas del curso y la transcipción de la Figura 1 y Figura 2 respectivamente, haciendo uso de la sintaxis Markdown. Recuerden definir unas celdas donde cada usuario modificará el cuaderno de python para evitar futuros conflictos. \n",
    "\n",
    "**RECOMENDACIÓN:ANTES DE EMPEZAR A REALIZAR MUCHAS MODIFICACIONES DEL NOTEBOOK PRIMERO REALICEN CAMBIOS PEQUEÑOS EN EL ARCHIVO EN CONJUNTO Y VERIFIQUEN SI TANTO EL ``ESTUDIANTE 1`` COMO EL ``ESTUDIANTE 2``  RECIBEN LAS ACTUALIZACIONES QUE REALIZAN CADA UNO EN EL PROYECTO PARA VERIFICAR QUE EL REMOTE ESTUVO BIEN CONFIGURADO.**\n",
    ">Les recomiendo ver los siguientes enlaces para ver distintas funciones para escribir en markdown.\n",
    ">    - [Creador de tablas online](https://www.tablesgenerator.com/markdown_tables)\n",
    ">    - [Sintáxis markdown](https://joplinapp.org/markdown/)\n",
    "\n",
    "6. Cuando ya se encuentre el proyecto conjunto con la información del ESTUDIANTE 1 y ESTUDIANTE 2, el ``ESTUDIANTE 2``  debe de realizar un `pull request` con las modificaciones realizadas a el `ESTUDIANTE 1` para que este realice un merge a la rama `master`, con las moficaciones propuestas por el `ESTUDIANTE 2`, TAL Y CÓMO SE REALIZÓ EN CLASE. (Recuerden que los pull request se generan en *Gitkraken* y se administran los comentarios o cambios propuestos por su compañero desde *Github* ver `Clase1_GitTurorial` para aclaración de dudas, donde se explica cómo crear *branch y pull request*)\n",
    "\n",
    "7. Luego de culminado los pasos anteriores, el ESTUDIANTE 1,realizará un programa que imprima la serie de fibonacci para sus primeros 100 términos en un array de python,usando la rama “master” del repositorio creado. Por otro lado, el ESTUDIANTE 2,creando un “branch” llamado `ejerPrograma`, generará un programa que muestre los números primos del 0-100. Luego de que el ESTUDIANTE 2 haya terminado su programa, debe de realizar un “pull request” al ESTUDIANTE 1, **ANTES** de hacer un “merge” de la rama `ejerPrograma` en el proyecto principal (“master”). Luego de realizado estos pasos **NO BORRAR LA RAMA CREADA (`ejerPrograma`)**"
   ]
  },
  {
   "cell_type": "markdown",
   "metadata": {},
   "source": [
    "Código de solución Rafael Juarez"
   ]
  },
  {
   "cell_type": "markdown",
   "metadata": {},
   "source": [
    "Espero aprender a trabajar de una manera eficiente en equipo, también espero poder hacer predicciones de series de tiempo que no tengan estacionalidad."
   ]
  },
  {
   "attachments": {},
   "cell_type": "markdown",
   "metadata": {},
   "source": [
    "$$\n",
    "\\begin{aligned}\n",
    "&\\begin{array}{|c|c|c|}\n",
    "\\hline \\hline \\text { $ i $} & \\text { $ x $ } & \\text { $ f(x) $ }\\\\\n",
    "\\hline \n",
    "0 & -1 & 0.3678\\\\\n",
    "\\color{red} 1 & \\color{red}-\\color{red}0\\color{red}.\\color{red}5 & \\color{red}0\\color{red}.\\color{red}7\\color{red}7\\color{red}8\\color{red}8 \\\\\n",
    "\\color{blue}2 & \\color{blue}0 & \\color{blue}1 \\\\\n",
    "\\color{red}3 & \\color{red}0\\color{red}.\\color{red}5 & \\color{red}0\\color{red}.\\color{red}7\\color{red}7\\color{red}8\\color{red}8 \\\\\n",
    "4 & 1 & 0.3678 \\\\\n",
    "\\hline\n",
    "\\end{array}\n",
    "\\end{aligned}\n",
    "$$\n",
    "<p style=\"text-align: center;\"> Cuadro 1: Tabla de valores de $f(x)$ </p>\n",
    "</br>\n",
    "\n",
    "$$\n",
    "\\begin{aligned}\n",
    "\\int_{-1}^1 e^{-x^2} d x & \\approx \\frac{0,5}{3}[f(-1)+f(1)+4(\\color{red}f\\color{red}(\\color{red}-\\color{red}0\\color{red},\\color{red}5\\color{red})\\color{red}+\\color{red}f\\color{red}(\\color{red}0\\color{red},\\color{red}5\\color{red}))+2 \\color{blue}f\\color{blue}(\\color{blue}0\\color{blue})] \\\\\n",
    "& \\approx \\frac{0,5}{3}[0,3678+0,3678+4(\\color{red}0\\color{red},\\color{red}7\\color{red}7\\color{red}8\\color{red}8\\color{red}+\\color{red}0\\color{red},\\color{red}7\\color{red}7\\color{red}8\\color{red}8)+2 \\cdot \\color{blue}1] \\approx 1,4943\n",
    "\\end{aligned}\n",
    "$$\n",
    "A modo de verificación, se calculará por software, el valor del área para $n=100$, un valor mucho más elevado al que se utilizó anteriormente. Si lo calculado previamente es correcto, se esperaría que sea próximo al valor presentado a continuación para ser una buena aproximación.\n",
    "$$\n",
    "\\int_{-1}^1 e^{-x^2} d x \\approx 1,4936\n",
    "$$\n"
   ]
  },
  {
   "cell_type": "code",
   "execution_count": 1,
   "metadata": {},
   "outputs": [],
   "source": [
    "# Ejercicio 7 estudiante 1\n"
   ]
  },
  {
   "attachments": {},
   "cell_type": "markdown",
   "metadata": {},
   "source": [
    "Código de solución Rafael Gallardo\n",
    "\n",
    "Enb este curso espero poder aprender a resolver problemas de pronosticos con situaciones que no presentan un comportamiento lineal que nos permita aproximarlo mediante series de tiempo simples\n",
    "\n",
    "$$\n",
    "\\begin{aligned}\n",
    "\\begin{array} {|c|c|c|c|c|c|c|c|}\n",
    "\\hline \\hline \\text {i} & 1 & 2 & 3 & 4 & 5 & 6 & 7\\\\\n",
    "\\hline\n",
    "E_{i}(V) & 12 & 10 & 24 & 12  & - & - & 6\\\\ \\hline\n",
    "r_{i}(\\Omega) & 0.1 & 0.5 & 0.2 & 0.5 & - & - & - \\\\ \\hline\n",
    "R_{i}(\\Omega) & 25 & 40 & 16 & 20 & 9 & 4 & 20\\\\ \\hline\n",
    "\\hline\n",
    "\\end{array}\n",
    "\\end{aligned}\n",
    "$$\n",
    "\n",
    "<p><font color='#2596be'> Kemna y Vorst (1990) </font> muestran que las opciones asiáticas con media geométrica continua se pueden valuar con el mismo enfoque de las opciones <i> plain vanilla</i>; solo se deben cambiar los párametros de volatilidad $\\sigma$ por $\\sigma_{a}$, y el costo de acarreo $b$ por $b_{A}$.<br>\n",
    "De acuerdo con Kemna y Vorst, las fórmulas para valuar una opción de compra y una opción de venta son:\n",
    "\n",
    "$$\n",
    "\\tag{3}\n",
    "\\begin{align}\n",
    "c &\\approx S_{t}e^{(b_{A}-r)(T-t)}\\phi(d_{1}) - Ke^{-r(T-t)}\\phi(d_{2}), \\\\\n",
    "p &\\approx Ke^{-r(T-t)}\\phi(-d_{2})-S_{t}e^{(b_{a}-r)(T-t)}\\phi(-d_{1}).\n",
    "\\end{align}\n",
    "$$\n",
    "con $d_{1} \\text{y } d_{2}$ dados por:\n",
    "    \n",
    "$$\n",
    "\\tag{4}\n",
    "\\begin{align}\n",
    "d_{1} & = \\frac{ln(S_{t}/K)+(b_{A}+1/2\\sigma_{a}^{2}(T-t)}{\\sigma\\sqrt{T-t}}, \\\\\n",
    "d_{2} & = d_{1}-\\sigma_{a}\\sqrt{T-t}.\n",
    "\\end{align}\n",
    "$$\n",
    "\n",
    "La función $\\phi(d)$ es la función de distribución acumulada de $E\\sim\\mathcal{N}(0, 1)$. La volatilidad ajustada es igual a:\n",
    "\n",
    "$$\n",
    "\\sigma_{a} = \\frac{\\sigma}{\\sqrt{3}},\n",
    "$$\n",
    "mientras que el costo de acarreo ajustado es:\n",
    "$$\n",
    "b_{A} = \\frac{1}{2}\\left( v - \\frac{\\sigma^{2}}{6}\\right)\n",
    "$$"
   ]
  },
  {
   "attachments": {},
   "cell_type": "markdown",
   "metadata": {},
   "source": [
    "Código de solución Xavier Pérez\n",
    "\n",
    "En este curso espero entender y aprender a desarollar herramientas de inteligencia artificial para poder crear pronósticos sobre las series de tiempo.\n",
    "\n",
    "\n",
    "| i           | 1   | 2   | 3   | 4   | 5 | 6 | 7  |\n",
    "|-------------|-----|-----|-----|-----|---|---|----|\n",
    "| $$ E_i(V) $$     | 12  | 10  | 24  | 12  | - | - | -  |\n",
    "| $$ r_i(\\Omega)$$ | 0.1 | 0.5 | 0.2 | 0.5 | - | - | -  |\n",
    "| $$ R_i(\\Omega)$$| 25  | 40  | 16  | 20  | 9 | 4 | 20 |\n",
    "\n",
    "\n",
    "$ \\color{blue} Kemna y Vorst (1990) $ muestran que las opciones asiáticas con media geométrica continua se pueden valuar con el mismo enfoque de las opciones plain vanilla; solo se deben cambiar los párametros de volatilidad $\\sigma$ por $\\sigma_{a}$, y el costo de acarreo $b$ por $b_{A}$.\n",
    "\n",
    "De acuerdo con Kemna y Vorst, las fórmulas para valuar una opción de compra y una opción de venta son:\n",
    "\n",
    "$$\n",
    "c \\approx S_{t}e^{(b_{A}-r)(T-t)}\\phi(d_{1}) - Ke^{-r(T-t)}\\phi(d_{2})\n",
    "\\\\\n",
    "p \\approx Ke^{-r(T-t)}\\phi(-d_{2})-S_{t}e^{(b_{A}-r)(T-t)}\\phi(-d_{1})\n",
    "$$\n",
    "\n",
    "con $d_{1}$ y $d_{2}$ dados por:\n",
    "\n",
    "$$\n",
    "d1 = \\frac{ln(\\frac{S_t}{k}) +(b_A+\\frac{\\sigma^2}{2})(T-t) }{\\sigma\\sqrt{(T-t)}} \n",
    "\\\\\n",
    "d2 = d1-\\sigma_a\\sqrt{(T-t)}\n",
    "$$\n",
    "\n",
    "La función $\\phi(d)$ es la función de distribución acumulada de $ E\\sim\\mathcal{N}(0,1)$. La volatilidad es igual a:\n",
    "\n",
    "$$\n",
    "\\sigma_{a} = \\frac{\\sigma}{\\sqrt{3}}\n",
    "$$\n",
    "\n",
    "mientras que el costo de acarreo ajustado es:\n",
    "\n",
    "$$\n",
    "b_A = \\frac{1}{2}(v-\\frac{\\sigma^{2}}{6})\n",
    "$$"
   ]
  },
  {
   "cell_type": "markdown",
   "metadata": {},
   "source": [
    "### Respuesta planteada en el ejercicio usando (markdown)\n",
    " La respuesta es ........."
   ]
  }
 ],
 "metadata": {
  "kernelspec": {
   "display_name": "Python 3 (ipykernel)",
   "language": "python",
   "name": "python3"
  },
  "language_info": {
   "codemirror_mode": {
    "name": "ipython",
    "version": 3
   },
   "file_extension": ".py",
   "mimetype": "text/x-python",
   "name": "python",
   "nbconvert_exporter": "python",
   "pygments_lexer": "ipython3",
   "version": "3.10.2 (tags/v3.10.2:a58ebcc, Jan 17 2022, 14:12:15) [MSC v.1929 64 bit (AMD64)]"
  },
  "vscode": {
   "interpreter": {
    "hash": "46c30e3296a50a661b4943a2c56376fe5a40e136c2111b5e7675c27c3783cd9a"
   }
  }
 },
 "nbformat": 4,
 "nbformat_minor": 2
}
